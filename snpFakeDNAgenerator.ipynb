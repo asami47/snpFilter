{
 "cells": [
  {
   "cell_type": "code",
   "execution_count": 4,
   "metadata": {},
   "outputs": [
    {
     "name": "stdout",
     "output_type": "stream",
     "text": [
      "Generated DNA samples saved to 'generated_dna_samples.csv'.\n"
     ]
    }
   ],
   "source": [
    "import pandas as pd\n",
    "import random\n",
    "\n",
    "num_samples = 1000  \n",
    "num_snps = 10000   \n",
    "cancer_snps = 100   \n",
    "\n",
    "def generate_genotype():\n",
    "    \"\"\"Generate random genotype (AA, AG, GG).\"\"\"\n",
    "    alleles = ['A', 'G']  \n",
    "    return random.choice(alleles) + random.choice(alleles)\n",
    "\n",
    "snp_ids = [f\"rs{random.randint(1000000, 9999999)}\" for _ in range(num_snps)]\n",
    "\n",
    "\n",
    "correlated_snps = random.sample(snp_ids, cancer_snps)\n",
    "\n",
    "\n",
    "def generate_sample(correlated_snps, has_cancer):\n",
    "    sample_data = {}\n",
    "    for snp in snp_ids:\n",
    "       \n",
    "        if snp in correlated_snps:\n",
    "            if has_cancer:\n",
    "                \n",
    "                sample_data[snp] = random.choices(['AA', 'AG', 'GG'], weights=[0.1, 0.3, 0.6])[0]\n",
    "            else:\n",
    "               \n",
    "                sample_data[snp] = random.choices(['AA', 'AG', 'GG'], weights=[0.4, 0.4, 0.2])[0]\n",
    "        else:\n",
    "            sample_data[snp] = generate_genotype()\n",
    "    \n",
    "    return sample_data\n",
    "\n",
    "samples = []\n",
    "cancer_labels = []\n",
    "\n",
    "for i in range(num_samples):\n",
    "    has_cancer = random.random() < 0.3\n",
    "    sample_data = generate_sample(correlated_snps, has_cancer)\n",
    "    samples.append(sample_data)\n",
    "    cancer_labels.append(has_cancer)\n",
    "\n",
    "samples_df = pd.DataFrame(samples)\n",
    "samples_df['Has_Cancer'] = cancer_labels\n",
    "\n",
    "samples_df.head()\n",
    "\n",
    "samples_df.to_csv('generated_dna_samples.csv', index=False)\n",
    "print(\"Generated DNA samples saved to 'generated_dna_samples.csv'.\")\n"
   ]
  },
  {
   "cell_type": "code",
   "execution_count": 14,
   "metadata": {},
   "outputs": [
    {
     "name": "stdout",
     "output_type": "stream",
     "text": [
      "Accuracy: 0.87\n",
      "Top SNPs correlated with cancer:\n",
      "rs1119748    0.010685\n",
      "rs5657838    0.008877\n",
      "rs2356057    0.008278\n",
      "rs8316234    0.008271\n",
      "rs8600934    0.007886\n",
      "rs8661899    0.007613\n",
      "rs5065895    0.007534\n",
      "rs4319829    0.007490\n",
      "rs6722285    0.007251\n",
      "rs5949485    0.007088\n",
      "dtype: float64\n"
     ]
    }
   ],
   "source": [
    "from sklearn.model_selection import train_test_split\n",
    "from sklearn.ensemble import RandomForestClassifier\n",
    "from sklearn.metrics import accuracy_score\n",
    "\n",
    "data = pd.read_csv('generated_dna_samples.csv')\n",
    "\n",
    "def encode_genotype(genotype):\n",
    "    if genotype == 'AA':\n",
    "        return 0\n",
    "    elif genotype == 'AG':\n",
    "        return 1\n",
    "    elif genotype == 'GG':\n",
    "        return 2\n",
    "    else:\n",
    "        return -1  \n",
    "\n",
    "for snp in data.columns[:-1]:  \n",
    "    data[snp] = data[snp].apply(encode_genotype)\n",
    "\n",
    "X = data.drop('Has_Cancer', axis=1)\n",
    "y = data['Has_Cancer']\n",
    "\n",
    "X_train, X_test, y_train, y_test = train_test_split(X, y, test_size=0.3, random_state=42)\n",
    "\n",
    "clf = RandomForestClassifier(n_estimators=100, random_state=42)\n",
    "clf.fit(X_train, y_train)\n",
    "\n",
    "y_pred = clf.predict(X_test)\n",
    "accuracy = accuracy_score(y_test, y_pred)\n",
    "print(f\"Accuracy: {accuracy:.2f}\")\n",
    "\n",
    "feature_importances = pd.Series(clf.feature_importances_, index=X.columns).sort_values(ascending=False)\n",
    "print(\"Top SNPs correlated with cancer:\")\n",
    "print(feature_importances.head(10))\n"
   ]
  }
 ],
 "metadata": {
  "kernelspec": {
   "display_name": "snpFilter",
   "language": "python",
   "name": "python3"
  },
  "language_info": {
   "codemirror_mode": {
    "name": "ipython",
    "version": 3
   },
   "file_extension": ".py",
   "mimetype": "text/x-python",
   "name": "python",
   "nbconvert_exporter": "python",
   "pygments_lexer": "ipython3",
   "version": "3.12.4"
  }
 },
 "nbformat": 4,
 "nbformat_minor": 2
}
