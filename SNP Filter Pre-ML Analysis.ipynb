{
 "cells": [
  {
   "cell_type": "code",
   "execution_count": 0,
   "metadata": {
    "application/vnd.databricks.v1+cell": {
     "cellMetadata": {
      "byteLimit": 2048000,
      "rowLimit": 10000
     },
     "inputWidgets": {},
     "nuid": "654e27ab-32f2-480e-b98f-8d86a02e9d19",
     "showTitle": false,
     "title": ""
    }
   },
   "outputs": [],
   "source": [
    "from pyspark.sql.types import *\n",
    "from pyspark.sql.functions import *\n",
    "from pyspark.sql.functions import regexp_replace, col,trim, dense_rank, percent_rank\n",
    "from pyspark.sql.window import Window\n",
    "from pyspark.sql.types import IntegerType\n",
    "import os\n",
    "from pyspark.sql.functions import lit\n",
    "from functools import reduce\n",
    "import glob"
   ]
  },
  {
   "cell_type": "code",
   "execution_count": 0,
   "metadata": {
    "application/vnd.databricks.v1+cell": {
     "cellMetadata": {
      "byteLimit": 2048000,
      "rowLimit": 10000
     },
     "inputWidgets": {},
     "nuid": "d0ccf10e-cd97-4b48-ae37-8ae583d7f021",
     "showTitle": false,
     "title": ""
    }
   },
   "outputs": [],
   "source": [
    "delta_path = \"/FileStore/tables/processed/processed_table\"\n",
    "\n",
    "df = spark.read.format(\"delta\").load(delta_path)"
   ]
  },
  {
   "cell_type": "code",
   "execution_count": 0,
   "metadata": {
    "application/vnd.databricks.v1+cell": {
     "cellMetadata": {
      "byteLimit": 2048000,
      "rowLimit": 10000
     },
     "inputWidgets": {},
     "nuid": "9b5e9e2c-781c-4a98-ab51-663fa5bbe5cc",
     "showTitle": false,
     "title": ""
    }
   },
   "outputs": [],
   "source": [
    "print(df.count())\n",
    "print(df.select('filename').distinct().count())"
   ]
  },
  {
   "cell_type": "code",
   "execution_count": 0,
   "metadata": {
    "application/vnd.databricks.v1+cell": {
     "cellMetadata": {},
     "collapsed": true,
     "inputWidgets": {},
     "nuid": "40d8dd73-38d7-4aa3-8a89-8cae18774335",
     "showTitle": false,
     "title": ""
    }
   },
   "outputs": [],
   "source": [
    "rsid = input(\"Enter rsid: \")\n",
    "chromosome = input(\"Enter chromosome: \")\n",
    "position = input(\"Enter position: \")\n",
    "genotype = input(\"Enter genotype: \")"
   ]
  },
  {
   "cell_type": "code",
   "execution_count": 0,
   "metadata": {
    "application/vnd.databricks.v1+cell": {
     "cellMetadata": {},
     "inputWidgets": {},
     "nuid": "26b72459-2448-48bf-93cf-ba11874b6936",
     "showTitle": false,
     "title": ""
    }
   },
   "outputs": [],
   "source": [
    "matching_rows = df.where((df[\"rsid\"] == rsid) & (df[\"chromosome\"] == chromosome) & (df[\"position\"] == position) & (df[\"genotype\"] == genotype))\n",
    "\n",
    "matching_rows.show()\n"
   ]
  },
  {
   "cell_type": "code",
   "execution_count": 0,
   "metadata": {
    "application/vnd.databricks.v1+cell": {
     "cellMetadata": {
      "byteLimit": 2048000,
      "rowLimit": 10000
     },
     "inputWidgets": {},
     "nuid": "11fb67ef-897b-4e8b-b5b9-310d8ecd84b1",
     "showTitle": false,
     "title": ""
    }
   },
   "outputs": [],
   "source": [
    "rsid = input(\"Enter rsid: \")\n",
    "genotype = input(\"Enter genotype: \")"
   ]
  },
  {
   "cell_type": "code",
   "execution_count": 0,
   "metadata": {
    "application/vnd.databricks.v1+cell": {
     "cellMetadata": {
      "byteLimit": 2048000,
      "rowLimit": 10000
     },
     "inputWidgets": {},
     "nuid": "cc9c3f39-4d1b-4f97-9032-61d2770ba08e",
     "showTitle": false,
     "title": ""
    }
   },
   "outputs": [],
   "source": [
    "matching_rows = df.where((df[\"rsid\"] == rsid) & (df[\"genotype\"] == genotype))\n",
    "\n",
    "matching_rows.show()\n"
   ]
  },
  {
   "cell_type": "code",
   "execution_count": 0,
   "metadata": {
    "application/vnd.databricks.v1+cell": {
     "cellMetadata": {},
     "inputWidgets": {},
     "nuid": "fce9a259-254f-4c92-b05e-ae4d1974820e",
     "showTitle": false,
     "title": ""
    }
   },
   "outputs": [],
   "source": [
    "matching_rows = df.where((df[\"rsid\"] == rsid) & (df[\"genotype\"] == genotype))\n",
    "\n",
    "matching_rows.show()"
   ]
  },
  {
   "cell_type": "code",
   "execution_count": 0,
   "metadata": {
    "application/vnd.databricks.v1+cell": {
     "cellMetadata": {
      "byteLimit": 2048000,
      "rowLimit": 10000
     },
     "inputWidgets": {},
     "nuid": "0c56ab22-40b8-465d-8a69-5a42ceb4e524",
     "showTitle": false,
     "title": ""
    }
   },
   "outputs": [],
   "source": [
    "matching_rows.limit(50).display()"
   ]
  },
  {
   "cell_type": "code",
   "execution_count": 0,
   "metadata": {
    "application/vnd.databricks.v1+cell": {
     "cellMetadata": {
      "byteLimit": 2048000,
      "rowLimit": 10000
     },
     "inputWidgets": {},
     "nuid": "e7ab6ee5-1cfa-4dbe-ba09-36d85d544dca",
     "showTitle": false,
     "title": ""
    }
   },
   "outputs": [],
   "source": [
    "num_matching_rows = matching_rows.count()\n",
    "\n",
    "num_total_files = df.select(\"filename\").distinct().count()\n",
    "\n",
    "prevalence = (num_matching_rows / num_total_files) * 100\n",
    "\n",
    "print(f\"Prevalence of match: {prevalence:.2f}%\")"
   ]
  }
 ],
 "metadata": {
  "application/vnd.databricks.v1+notebook": {
   "dashboards": [],
   "environmentMetadata": null,
   "language": "python",
   "notebookMetadata": {
    "pythonIndentUnit": 4
   },
   "notebookName": "SNP Filter Pre-ML Analysis",
   "widgets": {}
  }
 },
 "nbformat": 4,
 "nbformat_minor": 0
}
